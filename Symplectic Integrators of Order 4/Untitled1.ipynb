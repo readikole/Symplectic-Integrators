{
 "cells": [
  {
   "cell_type": "code",
   "execution_count": 1,
   "metadata": {},
   "outputs": [],
   "source": [
    "import numpy as np \n",
    "import matplotlib\n",
    "matplotlib.rcParams['text.usetex'] = True\n",
    "import matplotlib.pyplot as plt\n",
    "import time"
   ]
  },
  {
   "cell_type": "code",
   "execution_count": 2,
   "metadata": {},
   "outputs": [],
   "source": [
    "#Fourth order symplectic integrator with 15 steps\n",
    "start_time  = time.time()\n",
    "#initialize vectors \n",
    "N = 1000\n",
    "h = 1"
   ]
  },
  {
   "cell_type": "code",
   "execution_count": 3,
   "metadata": {},
   "outputs": [],
   "source": [
    "##============intialize empty vectors==============##\n",
    "x1 = np.zeros(N, dtype='float')\n",
    "x2 = np.zeros(N, dtype='float')\n",
    "dx1 = np.zeros(N, dtype='float')\n",
    "dx2 = np.zeros(N, dtype='float')"
   ]
  },
  {
   "cell_type": "code",
   "execution_count": 4,
   "metadata": {},
   "outputs": [],
   "source": [
    "##====================To do list========================##\n",
    "#Choose a chaotic and regular orbit and:\n",
    "#1.) Compute the maximum Lyapunov exponents (its time evolution)\n",
    "#2.) Compute the Relative Lyanpunov indicator\n",
    "#The regular orbit for K=1.2 is (0.2, 0.1)\n",
    "#The chaotic orbit for K=1.2 is (0.01, -0.02)"
   ]
  },
  {
   "cell_type": "code",
   "execution_count": 5,
   "metadata": {},
   "outputs": [],
   "source": [
    "LCE = np.zeros(N, dtype='float')\n",
    "vec = np.zeros(N, dtype='float')"
   ]
  },
  {
   "cell_type": "code",
   "execution_count": 6,
   "metadata": {},
   "outputs": [],
   "source": [
    "#function for normalizing deviation vectors\n",
    "def alpha(dx, dy):\n",
    "    return np.linalg.norm([dx, dy])"
   ]
  },
  {
   "cell_type": "code",
   "execution_count": 7,
   "metadata": {},
   "outputs": [],
   "source": [
    "x1_vals = [0.3, 0.01]\n",
    "x2_vals = [0.1, -0.01]"
   ]
  },
  {
   "cell_type": "code",
   "execution_count": 8,
   "metadata": {},
   "outputs": [
    {
     "name": "stderr",
     "output_type": "stream",
     "text": [
      "/opt/anaconda3/lib/python3.7/site-packages/ipykernel_launcher.py:31: RuntimeWarning: invalid value encountered in double_scalars\n",
      "/opt/anaconda3/lib/python3.7/site-packages/ipykernel_launcher.py:34: RuntimeWarning: divide by zero encountered in log10\n"
     ]
    },
    {
     "data": {
      "image/png": "[encoded data removed]",
      "text/plain": [
       "<Figure size 432x288 with 1 Axes>"
      ]
     },
     "metadata": {
      "needs_background": "light"
     },
     "output_type": "display_data"
    }
   ],
   "source": [
    "\n",
    "for idx in range(len(x1_vals)):\n",
    "    #intial conditions \n",
    "    x1[0] = x1_vals[idx]\n",
    "    x2[0] = x2_vals[idx]\n",
    "    dx1[0] = 1\n",
    "    dx2[0] = 0\n",
    "    #renormalize the initial deviation vectors\n",
    "    dx1[0] = dx1[0]/alpha(dx1[0], dx2[0])\n",
    "    dx2[0] = dx2[0]/alpha(dx1[0], dx2[0])\n",
    "    K =0.8#0.971635 #0.8\n",
    "    for i in range(N-1):\n",
    "        x1[i+1] = (x1[i] + x2[i] + (K/(2*np.pi))*np.sin(2*np.pi*x1[i+1]))%1\n",
    "        x2[i+1] = (x2[i] + (K/(2*np.pi))*np.sin(2*np.pi*x1[i+1]))%1\n",
    "    \n",
    "        #handle the variational equations\n",
    "        dx1[i+1] = ((1 + K*np.cos(2*np.pi*x1[i+1]))*dx1[i] + dx2[i])%1\n",
    "        dx2[i+1] = (K*np.cos(2*np.pi*x1[i+1])*dx1[i] + dx2[i])%1\n",
    "        \n",
    "        #handle the computations of the mLCE\n",
    "        for idx in range(1,i):\n",
    "            if i ==0:\n",
    "                vec[i] = np.log(alpha(dx1[idx], dx2[idx]))\n",
    "                LCE[i] = (1/h)*(np.sum(vec))\n",
    "            \n",
    "            else:\n",
    "                vec[i] = np.log(alpha(dx1[idx], dx2[idx]))\n",
    "        \n",
    "                LCE[i] = (1/(i*h))*(np.sum(vec))\n",
    "                lyapunov = (1/(i*h))*(np.sum(np.log(alpha(dx1[idx], dx2[idx]))))\n",
    "        #renormalize deviation vectors\n",
    "        dx1[i+1] = dx1[i+1]/alpha(dx1[i+1], dx2[i+1])\n",
    "        dx2[i+1] = dx2[i+1]/alpha(dx1[i+1], dx2[i+1])\n",
    "    plt.grid()\n",
    "    plt.scatter(np.log10(np.linspace(0, N, N)), np.log10(abs(LCE)), s=1)\n",
    "    plt.title(r'\\textbf{The time evolution of $X_{1}(t)$ for the $2-D$ map.}')\n",
    "    plt.xlabel(r'$\\log_{10}N$')\n",
    "    plt.ylabel(r'$\\log_{10}X_{1}$')\n",
    "    plt.legend(['Regular', 'Chaotic'])\n"
   ]
  },
  {
   "cell_type": "code",
   "execution_count": 9,
   "metadata": {},
   "outputs": [
    {
     "data": {
      "text/plain": [
       "0.8744119326273601"
      ]
     },
     "execution_count": 9,
     "metadata": {},
     "output_type": "execute_result"
    }
   ],
   "source": [
    "end_time = time.time() - start_time \n",
    "end_time/60"
   ]
  }
 ],
 "metadata": {
  "kernelspec": {
   "display_name": "Python 3",
   "language": "python",
   "name": "python3"
  },
  "language_info": {
   "codemirror_mode": {
    "name": "ipython",
    "version": 3
   },
   "file_extension": ".py",
   "mimetype": "text/x-python",
   "name": "python",
   "nbconvert_exporter": "python",
   "pygments_lexer": "ipython3",
   "version": "3.7.6"
  }
 },
 "nbformat": 4,
 "nbformat_minor": 4
}
