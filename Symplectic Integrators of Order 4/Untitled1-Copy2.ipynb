{
 "cells": [
  {
   "cell_type": "code",
   "execution_count": 1,
   "metadata": {},
   "outputs": [],
   "source": [
    "import numpy as np \n",
    "import matplotlib\n",
    "matplotlib.rcParams['text.usetex'] = True\n",
    "import matplotlib.pyplot as plt\n",
    "import time"
   ]
  },
  {
   "cell_type": "code",
   "execution_count": 2,
   "metadata": {},
   "outputs": [],
   "source": [
    "start_time  = time.time()\n",
    "#initialize vectors \n",
    "N = 1000\n",
    "h = 0.05"
   ]
  },
  {
   "cell_type": "code",
   "execution_count": 3,
   "metadata": {},
   "outputs": [],
   "source": [
    "##============intialize empty vectors==============##\n",
    "x1 = np.zeros(N, dtype='float')\n",
    "x2 = np.zeros(N, dtype='float')\n",
    "dx1 = np.zeros(N, dtype='float')\n",
    "dx2 = np.zeros(N, dtype='float')\n",
    "\n",
    "y1 = np.zeros(N, dtype='float')\n",
    "y2 = np.zeros(N, dtype='float')\n",
    "dy1 = np.zeros(N, dtype='float')\n",
    "dy2 = np.zeros(N, dtype='float')"
   ]
  },
  {
   "cell_type": "code",
   "execution_count": 4,
   "metadata": {},
   "outputs": [],
   "source": [
    "##===============================To do list======================================##\n",
    "#Choose a chaotic and regular orbit and:\n",
    "#2.) Compute the Relative Lyanpunov indicator\n",
    "\n",
    "#The chaotic orbit for K=1.2 is (0.01, -0.02)\n",
    "#The regular orbit for K=1.2 is (0.2, 0.1)\n",
    "\n",
    "##=======================The recipe for computing  the RLI=======================##\n",
    "#1.) Choose two initial deviation vectors that are close together (dx = 10e-10)\n",
    "#2.) Evolve the orbit (regular or chaotic)\n",
    "#3.) Compute RLI = ||L(x + dx;t) - L(x; t)||"
   ]
  },
  {
   "cell_type": "code",
   "execution_count": 5,
   "metadata": {},
   "outputs": [],
   "source": [
    "#intialize empty vectors for the computation of RLI\n",
    "LCE = np.zeros(N, dtype='float')\n",
    "RLI = np.zeros(N, dtype='float')\n",
    "vec1 = np.zeros(N, dtype='float')\n",
    "vec2 = np.zeros(N, dtype='float')"
   ]
  },
  {
   "cell_type": "code",
   "execution_count": 6,
   "metadata": {},
   "outputs": [],
   "source": [
    "#function for normalizing deviation vectors\n",
    "def alpha(dx, dy):\n",
    "    return np.linalg.norm([dx, dy])"
   ]
  },
  {
   "cell_type": "code",
   "execution_count": 13,
   "metadata": {},
   "outputs": [],
   "source": [
    "i = 0\n",
    "#for idx in range(len(x1_vals)):\n",
    "#intial conditions \n",
    "x1[0] =0.3#0.01\n",
    "x2[0] = 0#0.01\n",
    "dx1[0] = 1\n",
    "dx2[0] = 1\n",
    "\n",
    "y1[0] =x1[0] + 10e-7#0.01\n",
    "y2[0] = x2[0] + 10e-7#0.01\n",
    "dy1[0] = 1+1e-7\n",
    "dy2[0] = 1+1e-7\n",
    "#renormalize the initial deviation vectors\n",
    "dx1[0] = dx1[0]/alpha(dx1[0], dx2[0])\n",
    "dx2[0] = dx2[0]/alpha(dx1[0], dx2[0])\n",
    "dy1[0] = dy1[0]/alpha(dy1[0], dy2[0])\n",
    "dy2[0] = dy2[0]/alpha(dy1[0], dy2[0])\n",
    "K =0.5#0.971635 #0.8\n",
    "for i in range(N-1):\n",
    "    x1[i+1] = (x1[i] + x2[i] + (K)*np.sin(x1[i]))%2*np.pi\n",
    "    x2[i+1] = (x2[i] + (K)*np.sin(x1[i]))%2*np.pi\n",
    "    \n",
    "    #handle the variational equations\n",
    "    dx1[i+1] = ((1 + K*np.cos(x1[i+1]))*dx1[i] + dx2[i])%2*np.pi\n",
    "    dx2[i+1] = (K*np.cos(x1[i+1])*dx1[i] + dx2[i])%2*np.pi\n",
    "    \n",
    "    #w = [dx1, dx2]\n",
    "    #computations for the second variable y\n",
    "    \n",
    "    y1[i+1] = (y1[i] + y2[i] + (K)*np.sin(y1[i]))%2*np.pi\n",
    "    y2[i+1] = (y2[i] + (K)*np.sin(y1[i]))%2*np.pi\n",
    "    \n",
    "    #handle the variational equations\n",
    "    dy1[i+1] = ((1 + K*np.cos(y1[i+1]))*dy1[i] + dy2[i])%2*np.pi\n",
    "    dy2[i+1] = (K*np.cos(y1[i+1])*dy1[i] + dy2[i])%2*np.pi\n",
    "    #w_dw = [dy1 ,dy2]\n",
    "    #handle the computations of the RLI\n",
    "    for idx in range(1, i):\n",
    "        if i ==0:\n",
    "            vec1[i] = np.log(alpha(dx1[idx], dx2[idx]))\n",
    "            vec2[i] = np.log(alpha(dy1[idx], dy2[idx]))\n",
    "            RLI[i] = (1/h)*(np.sum(np.linalg.norm([vec2[idx] - vec1[idx]])))\n",
    "        else:\n",
    "            vec1[i] = np.log(alpha(dx1[idx], dx2[idx]))\n",
    "            vec2[i] = np.log(alpha(dy1[idx], dy2[idx]))\n",
    "        RLI[i] = (1/i*h)*np.sum(np.linalg.norm([vec2[idx] - vec1[idx]]))\n",
    "    #renormalize deviation vectors\n",
    "    dx1[i+1] = dx1[i+1]/alpha(dx1[i+1], dx2[i+1])\n",
    "    dx2[i+1] = dx2[i+1]/alpha(dx1[i+1], dx2[i+1])\n",
    "    dy1[i+1] = dy1[i+1]/alpha(dy1[i+1], dy2[i+1])\n",
    "    dy2[i+1] = dy2[i+1]/alpha(dy1[i+1], dy2[i+1])"
   ]
  },
  {
   "cell_type": "code",
   "execution_count": 14,
   "metadata": {},
   "outputs": [
    {
     "data": {
      "text/plain": [
       "<matplotlib.collections.PathCollection at 0x11e0fcf50>"
      ]
     },
     "execution_count": 14,
     "metadata": {},
     "output_type": "execute_result"
    },
    {
     "data": {
      "image/png": "[encoded data removed]",
      "text/plain": [
       "<Figure size 432x288 with 1 Axes>"
      ]
     },
     "metadata": {
      "needs_background": "light"
     },
     "output_type": "display_data"
    }
   ],
   "source": [
    "plt.scatter(x1, x2, s=0.1)"
   ]
  },
  {
   "cell_type": "code",
   "execution_count": null,
   "metadata": {},
   "outputs": [],
   "source": []
  },
  {
   "cell_type": "code",
   "execution_count": 15,
   "metadata": {},
   "outputs": [
    {
     "data": {
      "text/plain": [
       "Text(0, 0.5, '$\\\\log_{10}RLI$')"
      ]
     },
     "execution_count": 15,
     "metadata": {},
     "output_type": "execute_result"
    },
    {
     "data": {
      "image/png": "[encoded data removed]",
      "text/plain": [
       "<Figure size 432x288 with 1 Axes>"
      ]
     },
     "metadata": {
      "needs_background": "light"
     },
     "output_type": "display_data"
    }
   ],
   "source": [
    "plt.grid()\n",
    "plt.loglog(np.linspace(0, N, N),RLI)\n",
    "#plt.plot(np.log10(np.linspace(0, N, N)), RLI)\n",
    "plt.title(r'\\textbf{The time evolution of $RLI(t)$ for the $2-D$ map for a chaotic orbit},\\\\$K = 0.8$.')\n",
    "plt.xlabel(r'$\\log_{10}N$')\n",
    "plt.ylabel(r'$\\log_{10}RLI$')\n"
   ]
  },
  {
   "cell_type": "code",
   "execution_count": 10,
   "metadata": {},
   "outputs": [
    {
     "data": {
      "text/plain": [
       "0.47238386869430543"
      ]
     },
     "execution_count": 10,
     "metadata": {},
     "output_type": "execute_result"
    }
   ],
   "source": [
    "end_time = time.time() - start_time \n",
    "end_time/60"
   ]
  },
  {
   "cell_type": "code",
   "execution_count": null,
   "metadata": {},
   "outputs": [],
   "source": []
  }
 ],
 "metadata": {
  "kernelspec": {
   "display_name": "Python 3",
   "language": "python",
   "name": "python3"
  },
  "language_info": {
   "codemirror_mode": {
    "name": "ipython",
    "version": 3
   },
   "file_extension": ".py",
   "mimetype": "text/x-python",
   "name": "python",
   "nbconvert_exporter": "python",
   "pygments_lexer": "ipython3",
   "version": "3.7.6"
  }
 },
 "nbformat": 4,
 "nbformat_minor": 4
}
