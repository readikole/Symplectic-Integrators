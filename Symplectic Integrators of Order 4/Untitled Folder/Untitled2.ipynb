{
 "cells": [
  {
   "cell_type": "code",
   "execution_count": 1,
   "metadata": {},
   "outputs": [],
   "source": [
    "import numpy as np \n",
    "import matplotlib\n",
    "matplotlib.rcParams['text.usetex'] = True\n",
    "import matplotlib.pyplot as plt\n",
    "import time"
   ]
  },
  {
   "cell_type": "markdown",
   "metadata": {},
   "source": [
    "The $SABA_{2}Y4$ intergrator of the Henon-Heiles Hamiltonian - we employ this to compute the maximal Lyapunov characteristic exponents (mLCE)."
   ]
  },
  {
   "cell_type": "code",
   "execution_count": 2,
   "metadata": {},
   "outputs": [],
   "source": [
    "# is there a way of updating the Hamiltonian\n",
    "#for the Hamiltonian of assignment 1\n",
    "start_time  = time.time()\n",
    "#initialize vectors \n",
    "N = 2000\n",
    "a = 0\n",
    "b = 2500\n",
    "h = 0.05 #(b-a)/N\n",
    "H = 1/8                            #the total energy of the system"
   ]
  },
  {
   "cell_type": "code",
   "execution_count": 3,
   "metadata": {},
   "outputs": [],
   "source": [
    "#initializing vectors\n",
    "x_a0 = np.zeros(N, dtype='float')\n",
    "y_a0 = np.zeros(N, dtype='float')\n",
    "x_d1a1 = np.zeros(N, dtype='float')\n",
    "y_d1a1 = np.zeros(N, dtype='float')\n",
    "px_d1b1 = np.zeros(N, dtype='float')\n",
    "py_d1b1 = np.zeros(N, dtype='float')\n",
    "x_d1a2 = np.zeros(N, dtype='float')\n",
    "y_d1a2 = np.zeros(N, dtype='float')\n",
    "px_d0b1 = np.zeros(N, dtype='float')\n",
    "py_d0b1 = np.zeros(N, dtype='float')\n",
    "x_d0a2 = np.zeros(N, dtype='float')\n",
    "y_d0a2 = np.zeros(N, dtype='float')\n",
    "H_new = np.zeros(N, dtype='float')\n",
    "end_time  = np.zeros(N, dtype='float')"
   ]
  },
  {
   "cell_type": "code",
   "execution_count": 4,
   "metadata": {},
   "outputs": [],
   "source": [
    "#initializing vectors deviation vectors\n",
    "dx_a0 = np.zeros(N, dtype='float')\n",
    "dy_a0 = np.zeros(N, dtype='float')\n",
    "dx_d1a1 = np.zeros(N, dtype='float')\n",
    "dy_d1a1 = np.zeros(N, dtype='float')\n",
    "dpx_d1b1 = np.zeros(N, dtype='float')\n",
    "dpy_d1b1 = np.zeros(N, dtype='float')\n",
    "dx_d1a2 = np.zeros(N, dtype='float')\n",
    "dy_d1a2 = np.zeros(N, dtype='float')\n",
    "dpx_d0b1 = np.zeros(N, dtype='float')\n",
    "dpy_d0b1 = np.zeros(N, dtype='float')\n",
    "dx_d0a2 = np.zeros(N, dtype='float')\n",
    "dy_d0a2 = np.zeros(N, dtype='float')"
   ]
  },
  {
   "cell_type": "code",
   "execution_count": 5,
   "metadata": {},
   "outputs": [],
   "source": [
    "#funtion to return the norm of the deviation vectors\n",
    "def alpha(dx, dy, dpx, dpy):\n",
    "    return np.linalg.norm([dx, dy, dpx, dpy])"
   ]
  },
  {
   "cell_type": "code",
   "execution_count": 19,
   "metadata": {},
   "outputs": [],
   "source": [
    "#set initial conditions \n",
    "y_vals = [ -0.25]\n",
    "x0 = 0\n",
    "py0 = 0\n",
    "#defint dunction to find px0\n",
    "def initial_px(x0, y0, py0):\n",
    "    return np.sqrt(2*H - py0**2  - y0**2 - 2*x0**2*y0 + (2/3)*y0**2)\n",
    "\n",
    "\n",
    "#intial deviation vectors \n",
    "dx0 = 10\n",
    "dy0 = 0\n",
    "dpx0 = 0\n",
    "dpy0 = 0\n",
    "#set constants for the SABA integrator\n",
    "a1 = 1/2 - 1/(2*np.sqrt(3))\n",
    "a2 = 1/np.sqrt(3)\n",
    "b1 = 1/2\n",
    "d0 = - (2**(1/3))/(2 - 2**(1/3))\n",
    "d1 = 1/(2 - 2**(1/3))\n",
    "a0 = d1*a1 + d0*a1"
   ]
  },
  {
   "cell_type": "code",
   "execution_count": 20,
   "metadata": {},
   "outputs": [],
   "source": [
    "LCE = np.zeros(N, dtype = 'float')"
   ]
  },
  {
   "cell_type": "code",
   "execution_count": 21,
   "metadata": {},
   "outputs": [
    {
     "name": "stderr",
     "output_type": "stream",
     "text": [
      "/Users/realeboga/opt/anaconda3/lib/python3.7/site-packages/ipykernel_launcher.py:47: RuntimeWarning: overflow encountered in double_scalars\n",
      "/Users/realeboga/opt/anaconda3/lib/python3.7/site-packages/ipykernel_launcher.py:48: RuntimeWarning: overflow encountered in double_scalars\n",
      "/Users/realeboga/opt/anaconda3/lib/python3.7/site-packages/ipykernel_launcher.py:48: RuntimeWarning: invalid value encountered in double_scalars\n",
      "/Users/realeboga/opt/anaconda3/lib/python3.7/site-packages/ipykernel_launcher.py:105: UserWarning: Data has no positive values, and therefore cannot be log-scaled.\n"
     ]
    },
    {
     "data": {
      "image/png": "[encoded data removed]",
      "text/plain": [
       "<Figure size 432x288 with 1 Axes>"
      ]
     },
     "metadata": {
      "needs_background": "light"
     },
     "output_type": "display_data"
    }
   ],
   "source": [
    "#propagate the initial conditions forward\n",
    "#via successive canonical transformations\n",
    "i = 0\n",
    "error1 = np.zeros(N)\n",
    "for val in y_vals:\n",
    "    y0 = val\n",
    "    px0 = initial_px(x0, y0, py0)\n",
    "    for i in range(N-1):\n",
    "        #propage the intial conditions over one time step\n",
    "        x_d1a1[0] = x0 + d1*a1*h*px0\n",
    "        y_d1a1[0] = y0 + d1*a1*h*py0\n",
    "        px_d1b1[0] = px0 - d1*b1*h*(x0 + 2*x0*y0)\n",
    "        py_d1b1[0] = py0 - d1*b1*h*(y0 + x0**2 + y0**2)\n",
    "    \n",
    "        dx_d1a1[0] = dx0 + d1*a1*h*dpx0\n",
    "        dy_d1a1[0] = dy0 + d1*a1*h*dpy0\n",
    "        dpx_d1b1[0] = dpx0 - d1*b1*h*((1 + 2*y_d1a1[0])*dx_d1a1[0] + 2*x_d1a1[0])\n",
    "        dpy_d1b1[0] = dpy0 + d1*b1*h*(-2*x_d1a1[0] + (-1 + 2*y_d1a1[0])*dy_d1a1[0])\n",
    "        #H_new[0] = (1/2)*(x_a1[0]**2 + y_a1[0]**2) + (1/2)*(px_half[0]**2 + py_half[0]**2) +(x_a1[0]**2)*y_a1[0] - (1/3)*y_a1[0]**3\n",
    "        #compute first error term \n",
    "        #propagate forward for all time steps\n",
    "        x_d1a2[i] = x_d1a1[i] + d1*a2*h*px_d1b1[i]\n",
    "        y_d1a2[i] = y_d1a1[i] + d1*a2*h*py_d1b1[i]\n",
    "        px_d1b1[i+1] = px_d1b1[i] - d1*b1*h*(x_d1a2[i] + 2*x_d1a2[i]*y_d1a2[i])\n",
    "        py_d1b1[i+1] = py_d1b1[i] - d1*b1*h*(y_d1a2[i] + x_d1a2[i]**2 - y_d1a2[i]**2)\n",
    "    \n",
    "        dx_d1a2[i] = dx_d1a1[i] + d1*a2*h*dpx_d1b1[i]\n",
    "        dy_d1a2[i] = dy_d1a1[i] + d1*a2*h*dpy_d1b1[i]\n",
    "        dpx_d1b1[i+1] = dpx_d1b1[i] - d1*b1*h*(((1 + 2*y_d1a2[i])*dx_d1a2[i] + 2*x_d1a2[i]))\n",
    "        dpy_d1b1[i+1] = dpy_d1b1[i] + d1*b1*h*(-2*x_d1a2[i] + (-1 + 2*y_d1a2[i])*dy_d1a2[i])\n",
    "     \n",
    "        x_a0[i] = x_d1a2[i]  + a0*h*px_d1b1[i+1]\n",
    "        y_a0[i] = y_d1a2[i] + a0*h*py_d1b1[i+1]\n",
    "        dx_a0[i] = dx_d1a2[i]  + a0*h*dpx_d1b1[i+1]\n",
    "        dy_a0[i] = dy_d1a2[i] + a0*h*dpy_d1b1[i+1]\n",
    "\n",
    "        px_d0b1[i+1] = px_d1b1[i+1] - d0*b1*h*(x_a0[i] + 2*x_a0[i]*y_a0[i])\n",
    "        py_d0b1[i+1] = py_d1b1[i+1] - d0*b1*h*(y_a0[i] + x_a0[i]**2 - y_a0[i]**2)\n",
    "        dpx_d0b1[i+1] = dpx_d1b1[i] - d0*b1*h*(((1 + 2*y_a0[i])*dx_a0[i] + 2*x_a0[i]))\n",
    "        dpy_d0b1[i+1] = dpy_d1b1[i] + d0*b1*h*(-2*x_a0[i] + (-1 + 2*y_a0[i])*dy_a0[i])\n",
    "     \n",
    "        x_d0a2[i] = x_a0[i] + d0*a2*h*px_d0b1[i+1]\n",
    "        y_d0a2[i] = y_a0[i] + d0*a2*h*py_d0b1[i+1]\n",
    "        dx_d0a2[i] = dx_a0[i] + d0*a2*h*dpx_d0b1[i+1]\n",
    "        dy_d0a2[i] = dy_a0[i] + d0*a2*h*dpy_d0b1[i+1]\n",
    "\n",
    "        px_d0b1[i+1] = px_d0b1[i+1] - d0*b1*h*(x_d0a2[i+1] + 2*x_d0a2[i+1]*y_d0a2[i+1])\n",
    "        py_d0b1[i+1] = py_d0b1[i+1] - d0*b1*h*(y_d0a2[i+1] + x_d0a2[i+1]**2 - y_d0a2[i+1]**2)\n",
    "        dpx_d0b1[i+1] = dpx_d0b1[i+1] - d0*b1*h*(((1 + 2*y_d0a2[i])*dx_d1a2[i] + 2*x_d0a2[i]))\n",
    "        dpy_d0b1[i+1] = dpy_d0b1[i+1] + d0*b1*h*(-2*x_d0a2[i] + (-1 + 2*y_d0a2[i])*dy_d0a2[i])\n",
    "     \n",
    "        x_a0[i+1] = x_d0a2[i]  + a0*h*px_d0b1[i+1]\n",
    "        y_a0[i+1] = y_d0a2[i] + a0*h*py_d0b1[i+1]\n",
    "        dx_a0[i+1] = dx_d0a2[i]  + a0*h*dpx_d0b1[i+1]\n",
    "        dy_a0[i+1] = dy_d0a2[i] + a0*h*dpy_d0b1[i+1]\n",
    "    \n",
    "        px_d1b1[i+1] = px_d0b1[i+1] - d1*b1*h*(x_a0[i+1] + 2*x_a0[i+1]*y_a0[i+1])\n",
    "        py_d1b1[i+1] = py_d0b1[i+1] - d1*b1*h*(y_a0[i+1] + x_a0[i+1]**2 - y_a0[i+1]**2)\n",
    "        dpx_d0b1[i+1] = dpx_d1b1[i+1] - d0*b1*h*(((1 + 2*y_a0[i+1])*dx_a0[i+1] + 2*x_a0[i+1]))\n",
    "        dpy_d0b1[i+1] = dpy_d1b1[i+1] + d0*b1*h*(-2*x_a0[i+1] + (-1 + 2*y_a0[i+1])*dy_a0[i+1])\n",
    "     \n",
    "        x_d1a2[i+1] = x_a0[i+1] + d1*a2*h*px_d1b1[i+1]\n",
    "        y_d1a2[i+1] = y_a0[i+1] + d1*a2*h*py_d1b1[i+1]    \n",
    "        dx_d1a2[i+1] = dx_d1a1[i+1] + d1*a2*h*dpx_d1b1[i+1]\n",
    "        dy_d1a2[i+1] = dy_d1a1[i+1] + d1*a2*h*dpy_d1b1[i+1]\n",
    "    \n",
    "        px_d1b1[i+1] = px_d1b1[i+1] - d1*b1*h*(x_d1a2[i+1] + 2*x_d1a2[i+1]*y_d1a2[i+1])\n",
    "        py_d1b1[i+1] = py_d1b1[i+1] - d1*b1*h*(y_d1a2[i+1] + x_d1a2[i+1]**2 - y_d1a2[i+1]**2)\n",
    "        dpx_d1b1[i+1] = dpx_d1b1[i+1] - d1*b1*h*(((1 + 2*y_d1a2[i+1])*dx_d1a2[i+1] + 2*x_d1a2[i+1]))\n",
    "        dpy_d1b1[i+1] = dpy_d1b1[i+1] + d1*b1*h*(-2*x_d1a2[i+1] + (-1 + 2*y_d1a2[i+1])*dy_d1a2[i+1])\n",
    "     \n",
    "        x_d1a1[i+1] = x_d1a2[i+1] + d1*a1*h*px_d1b1[i+1]\n",
    "        y_d1a1[i+1] = y_d1a2[i+1] + d1*a1*h*py_d1b1[i+1]\n",
    "        dx_d1a1[i+1] = dx_d1a2[i+1] + d1*a1*h*dpx_d1b1[i+1]\n",
    "        dy_d1a1[i+1] = dy_d1a2[i+1] + d1*a1*h*dpy_d1b1[i+1] \n",
    "        #calculate the total energy\n",
    "        H_new[i] = (1/2)*(px_d1b1[i]**2 + py_d1b1[i]**2) + (1/2)*(x_d1a1[i]**2 + y_d1a1[i]**2) +(x_d1a1[i]**2)*y_d1a1[i] - (1/3)*y_d1a1[i]**3\n",
    "        error1[i] = abs((H - H_new[i])/H)\n",
    "        #calculate the CPU time\n",
    "        end_time[i] = time.time() - start_time\n",
    "        '''\n",
    "        #handle the compputation of the mLCE\n",
    "        for idx in range(1, i+1):\n",
    "                if i == 0:\n",
    "                    LCE[i] = (1/(h))*np.sum(np.log(np.linalg.norm([dx_d1a1[idx], dy_d1a1[idx], dpx_d1b1[idx], dpy_d1b1[idx]])))\n",
    "                    lyapunov = (1/(h))*np.sum(np.log(np.linalg.norm([dx_d1a1[idx], dy_d1a1[idx], dpx_d1b1[idx], dpy_d1b1[idx]])))\n",
    "                else:\n",
    "                    LCE[i] = (1/(i*h))*np.sum(np.log(np.linalg.norm([dx_d1a1[idx], dy_d1a1[idx], dpx_d1b1[idx], dpy_d1b1[idx]])))\n",
    "                lyapunov = (1/(i*h))*np.sum(np.log(np.linalg.norm([dx_d1a1[idx], dy_d1a1[idx], dpx_d1b1[idx], dpy_d1b1[idx]])))\n",
    "        #renormalize the deviation vectors\n",
    "        dx_d1a1[i+1] = dx_d1a1[i+1]/alpha(dx_d1a1[i+1], dy_d1a1[i+1], dpx_d1b1[i+1], dpy_d1b1[i+1])\n",
    "        dy_d1a1[i+1] = dy_d1a1[i+1]/alpha(dx_d1a1[i+1], dy_d1a1[i+1], dpx_d1b1[i+1], dpy_d1b1[i+1])\n",
    "        dx_d1a2[i+1] = dx_d1a2[i+1]/alpha(dx_a0[i+1], dy_a0[i+1], dpx_d1b1[i+1], dpy_d1b1[i+1])\n",
    "        dy_d1a2[i+1] = dy_d1a2[i+1]/alpha(dx_a0[i+1], dy_a0[i+1], dpx_d1b1[i+1], dpy_d1b1[i+1])\n",
    "        dx_d0a2[i+1] = dx_d0a2[i+1]/alpha(dx_a0[i+1], dy_a0[i+1], dpx_d0b1[i+1], dpy_d0b1[i+1])\n",
    "        dy_d0a2[i+1] = dy_d0a2[i+1]/alpha(dx_a0[i+1], dy_a0[i+1], dpx_d0b1[i+1], dpy_d0b1[i+1])\n",
    "        dx_a0[i+1] = dx_a0[i+1]/alpha(dx_d0a2[i+1], dy_d0a2[i+1], dpx_d0b1[i+1], dpy_d0b1[i+1])\n",
    "        dy_a0[i+1] = dy_a0[i+1]/alpha(dx_d0a2[i+1], dy_d0a2[i+1], dpx_d0b1[i+1], dpy_d0b1[i+1])\n",
    "        dpx_d0b1[i+1] = dpx_d0b1[i+1]/alpha(dx_a0[i+1], dy_a0[i+1], dpx_d1b1[i+1], dpy_d1b1[i+1])\n",
    "        dpy_d1b1[i+1] = dpy_d1b1[i+1]/alpha(dx_a0[i+1], dy_a0[i+1], dpx_d1b1[i+1], dpy_d1b1[i+1])\n",
    "        dpx_d1b1[i+1] = dpx_d1b1[i+1]/alpha(dx_d1a2[i+1], dy_d1a2[i+1], dpx_d1b1[i+1], dpy_d1b1[i+1])\n",
    "        dpy_d1b1[i+1] = dpy_d1b1[i+1]/alpha(dx_d1a2[i+1], dy_d1a2[i+1], dpx_d1b1[i+1], dpy_d1b1[i+1])\n",
    "        '''\n",
    "        i+=1\n",
    "    plt.loglog(np.linspace(0, N, N), LCE)"
   ]
  },
  {
   "cell_type": "code",
   "execution_count": 9,
   "metadata": {},
   "outputs": [
    {
     "ename": "NameError",
     "evalue": "name 'lyapunov' is not defined",
     "output_type": "error",
     "traceback": [
      "\u001b[0;31m---------------------------------------------------------------------------\u001b[0m",
      "\u001b[0;31mNameError\u001b[0m                                 Traceback (most recent call last)",
      "\u001b[0;32m<ipython-input-9-f889a9fd9942>\u001b[0m in \u001b[0;36m<module>\u001b[0;34m\u001b[0m\n\u001b[0;32m----> 1\u001b[0;31m \u001b[0mlyapunov\u001b[0m\u001b[0;34m\u001b[0m\u001b[0;34m\u001b[0m\u001b[0m\n\u001b[0m",
      "\u001b[0;31mNameError\u001b[0m: name 'lyapunov' is not defined"
     ]
    }
   ],
   "source": [
    "lyapunov"
   ]
  },
  {
   "cell_type": "code",
   "execution_count": null,
   "metadata": {},
   "outputs": [],
   "source": []
  },
  {
   "cell_type": "code",
   "execution_count": 15,
   "metadata": {},
   "outputs": [
    {
     "name": "stdout",
     "output_type": "stream",
     "text": [
      "End time for H1:  37.46742510795593\n"
     ]
    },
    {
     "data": {
      "text/plain": [
       "Text(0, 0.5, 'py')"
      ]
     },
     "execution_count": 15,
     "metadata": {},
     "output_type": "execute_result"
    },
    {
     "data": {
      "image/png": "[encoded data removed]",
      "text/plain": [
       "<Figure size 432x288 with 1 Axes>"
      ]
     },
     "metadata": {
      "needs_background": "light"
     },
     "output_type": "display_data"
    }
   ],
   "source": [
    "#end_time = time.time() - start_time\n",
    "print('End time for H1: ', time.time() - start_time)\n",
    "plt.scatter(y_d1a1, py_d1b1, s=0.1)\n",
    "plt.xlabel('y')\n",
    "plt.ylabel('py')"
   ]
  },
  {
   "cell_type": "code",
   "execution_count": 22,
   "metadata": {},
   "outputs": [
    {
     "data": {
      "text/plain": [
       "Text(0, 0.5, 'px')"
      ]
     },
     "execution_count": 22,
     "metadata": {},
     "output_type": "execute_result"
    },
    {
     "data": {
      "image/png": "[encoded data removed]",
      "text/plain": [
       "<Figure size 432x288 with 1 Axes>"
      ]
     },
     "metadata": {
      "needs_background": "light"
     },
     "output_type": "display_data"
    }
   ],
   "source": [
    "plt.scatter(x_d1a1, px_d1b1, s=0.1)\n",
    "plt.xlabel('x')\n",
    "plt.ylabel('px')"
   ]
  },
  {
   "cell_type": "code",
   "execution_count": 23,
   "metadata": {},
   "outputs": [
    {
     "data": {
      "text/plain": [
       "Text(0, 0.5, 'y')"
      ]
     },
     "execution_count": 23,
     "metadata": {},
     "output_type": "execute_result"
    },
    {
     "data": {
      "image/png": "[encoded data removed]",
      "text/plain": [
       "<Figure size 432x288 with 1 Axes>"
      ]
     },
     "metadata": {
      "needs_background": "light"
     },
     "output_type": "display_data"
    }
   ],
   "source": [
    "plt.scatter(x_d1a1, y_d1a1,marker='o',  s=0.1)\n",
    "plt.xlabel('x')\n",
    "plt.ylabel('y')"
   ]
  },
  {
   "cell_type": "code",
   "execution_count": 24,
   "metadata": {},
   "outputs": [
    {
     "data": {
      "image/png": "[encoded data removed]",
      "text/plain": [
       "<Figure size 432x288 with 1 Axes>"
      ]
     },
     "metadata": {
      "needs_background": "light"
     },
     "output_type": "display_data"
    }
   ],
   "source": [
    "#plt.loglog(np.linspace(0,N, N), Energy)\n",
    "plt.loglog(np.linspace(0,N, N), H_new)\n",
    "plt.grid()\n",
    "#plt.plot(np.log(end_time),np.log(error1))\n"
   ]
  },
  {
   "cell_type": "code",
   "execution_count": null,
   "metadata": {},
   "outputs": [],
   "source": []
  }
 ],
 "metadata": {
  "kernelspec": {
   "display_name": "Python 3",
   "language": "python",
   "name": "python3"
  },
  "language_info": {
   "codemirror_mode": {
    "name": "ipython",
    "version": 3
   },
   "file_extension": ".py",
   "mimetype": "text/x-python",
   "name": "python",
   "nbconvert_exporter": "python",
   "pygments_lexer": "ipython3",
   "version": "3.7.4"
  }
 },
 "nbformat": 4,
 "nbformat_minor": 2
}
