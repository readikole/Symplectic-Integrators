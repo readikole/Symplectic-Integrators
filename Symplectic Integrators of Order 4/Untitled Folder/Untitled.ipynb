{
 "cells": [
  {
   "cell_type": "code",
   "execution_count": 1,
   "metadata": {},
   "outputs": [],
   "source": [
    "import numpy as np \n",
    "import matplotlib.pyplot as plt \n",
    "import matplotlib\n",
    "matplotlib.rcParams['text.usetex'] = True\n",
    "import pandas as pd\n",
    "import time"
   ]
  },
  {
   "cell_type": "code",
   "execution_count": 2,
   "metadata": {},
   "outputs": [],
   "source": [
    "start_time = time.time()\n",
    "#integration of the Henon-Heiles system\n",
    "N = 500\n",
    "a = 0\n",
    "b = 25\n",
    "h = 0.05#(b-a)/N\n",
    "H = 1/8                             #the total energy of the system"
   ]
  },
  {
   "cell_type": "code",
   "execution_count": 3,
   "metadata": {},
   "outputs": [
    {
     "data": {
      "text/plain": [
       "0.05"
      ]
     },
     "execution_count": 3,
     "metadata": {},
     "output_type": "execute_result"
    }
   ],
   "source": [
    "h"
   ]
  },
  {
   "cell_type": "code",
   "execution_count": 4,
   "metadata": {},
   "outputs": [],
   "source": [
    "#initializing vectors\n",
    "x_a1 = np.zeros(N, dtype='float')\n",
    "x_a2 = np.zeros(N, dtype='float')\n",
    "y_a1 = np.zeros(N, dtype='float')\n",
    "y_a2 = np.zeros(N, dtype='float')\n",
    "px_b1 = np.zeros(N, dtype='float')\n",
    "px_b2 = np.zeros(N, dtype='float')\n",
    "py_b1 = np.zeros(N, dtype='float')\n",
    "py_b2= np.zeros(N, dtype='float')\n",
    "H_new = np.zeros(N, dtype='float')\n",
    "error = np.zeros(N, dtype='float')"
   ]
  },
  {
   "cell_type": "code",
   "execution_count": 5,
   "metadata": {},
   "outputs": [],
   "source": [
    "#define the deviation vectors and fill them with zeros\n",
    "dx_a1 = np.zeros(N, dtype='float')\n",
    "dx_a2 = np.zeros(N, dtype='float')\n",
    "dy_a1 = np.zeros(N, dtype='float')\n",
    "dy_a2 = np.zeros(N, dtype='float')\n",
    "dpx_b1 = np.zeros(N, dtype='float')\n",
    "dpx_b2 = np.zeros(N, dtype='float')\n",
    "dpy_b1 = np.zeros(N, dtype='float')\n",
    "dpy_b2= np.zeros(N, dtype='float')"
   ]
  },
  {
   "cell_type": "code",
   "execution_count": 6,
   "metadata": {},
   "outputs": [],
   "source": [
    "#vectors for the PSS\n",
    "x_new = np.zeros(N, dtype='float')\n",
    "y_new = np.zeros(N, dtype='float')\n",
    "px_new = np.zeros(N, dtype='float')\n",
    "py_new = np.zeros(N, dtype='float')"
   ]
  },
  {
   "cell_type": "code",
   "execution_count": 7,
   "metadata": {},
   "outputs": [],
   "source": [
    "#storage of the LCE\n",
    "LCE= np.zeros(N, dtype='float')\n",
    "#a = np.zeros(N, dtype='float')"
   ]
  },
  {
   "cell_type": "code",
   "execution_count": 8,
   "metadata": {},
   "outputs": [],
   "source": [
    "#set intial conditions for the orbit\n",
    "y_vals =[-00.1]\n",
    "x0 = 0\n",
    "py0 = 0\n",
    "\n",
    "dx0 = 1\n",
    "dy0 = 0\n",
    "dpy0 = 0\n",
    "\n",
    "#intial condition of the deviation vector\n",
    "#define dunction to find px0\n",
    "def initial_px(x0, y0, py0):\n",
    "    return np.sqrt(2*H - py0**2  - y0**2 - 2*x0**2*y0 + (2/3)*y0**2)\n",
    "\n",
    "dpx0 = 0#initial_px(dx0, dy0, dpy0)"
   ]
  },
  {
   "cell_type": "code",
   "execution_count": 9,
   "metadata": {},
   "outputs": [],
   "source": [
    "def alpha(x, y, px, py):\n",
    "    return np.linalg.norm([x, y, px, py])#np.sqrt(x**2 + y**2 + px**2 + py**2)"
   ]
  },
  {
   "cell_type": "code",
   "execution_count": 10,
   "metadata": {},
   "outputs": [],
   "source": [
    "#normalize the initial deviation vectors\n",
    "dx0 = dx0/alpha(dx0, dy0, dpx0, dpy0)\n",
    "dy0 = dy0/alpha(dx0, dy0, dpx0, dpy0)\n",
    "dpx0 = dpx0/alpha(dx0, dy0, dpx0, dpy0)\n",
    "dpy0 = dpy0/alpha(dx0, dy0, dpx0, dpy0)"
   ]
  },
  {
   "cell_type": "code",
   "execution_count": 11,
   "metadata": {},
   "outputs": [],
   "source": [
    "vec = np.zeros(N, dtype='float')\n"
   ]
  },
  {
   "cell_type": "code",
   "execution_count": 12,
   "metadata": {},
   "outputs": [
    {
     "name": "stderr",
     "output_type": "stream",
     "text": [
      "/Users/realeboga/opt/anaconda3/lib/python3.7/site-packages/ipykernel_launcher.py:84: UserWarning: Data has no positive values, and therefore cannot be log-scaled.\n",
      "/Users/realeboga/opt/anaconda3/lib/python3.7/site-packages/IPython/core/events.py:88: UserWarning: Creating legend with loc=\"best\" can be slow with large amounts of data.\n",
      "  func(*args, **kwargs)\n",
      "/Users/realeboga/opt/anaconda3/lib/python3.7/site-packages/IPython/core/pylabtools.py:128: UserWarning: Creating legend with loc=\"best\" can be slow with large amounts of data.\n",
      "  fig.canvas.print_figure(bytes_io, **kw)\n"
     ]
    },
    {
     "data": {
      "image/png": "[encoded data removed]",
      "text/plain": [
       "<Figure size 432x288 with 1 Axes>"
      ]
     },
     "metadata": {
      "needs_background": "light"
     },
     "output_type": "display_data"
    }
   ],
   "source": [
    "#integration constants of then FR4(t)\n",
    "a1 = 1/(2*(2 - 2**(1/3)))\n",
    "a2 = (1-2**(1/3))/(2*(2 - 2**(1/3)))\n",
    "b1 = 1/(2 - 2**(1/3))\n",
    "b2 = (2**(1/3))/(2 - 2**(1/3))\n",
    "#propagate the intial conditions forward\n",
    "i = 0                   #first itegration\n",
    "#for val in y_vals:\n",
    "y0 = y_vals[0]\n",
    "px0 = initial_px(x0, y0, py0)\n",
    "\n",
    "for i in range(N-1):\n",
    "    #handle the first iteration i = 0\n",
    "    x_a1[0] = x0 #+ a1*h*px0\n",
    "    y_a1[0] = y0 #+ a1*h*py0\n",
    "    px_b1[0] = px0 #- b1*h*(x_a1[0] + 2*x_a1[0]*y_a1[0])\n",
    "    py_b1[0] = py0 #- b1*h*(y_a1[0] + x_a1[0]**2 - y_a1[0]**2)\n",
    "    #integration of deviation vectors\n",
    "    #handle the first iteration i = 0\n",
    "    dx_a1[0] = dx0 \n",
    "    dy_a1[0] = dy0 \n",
    "    dpx_b1[0] = dx0\n",
    "    dpy_b1[0] = dpy0 \n",
    "    \n",
    "    #propagate forward for all time steps\n",
    "    x_a2[i] = x_a1[i]  + a2*h*px_b1[i]\n",
    "    y_a2[i] = y_a1[i] + a2*h*py_b1[i]\n",
    "    px_b2[i] = px_b1[i] - b2*h*(x_a2[i] + 2*x_a2[i]*y_a2[i])\n",
    "    py_b2[i] = py_b1[i] - b2*h*(y_a2[i] + x_a2[i]**2 - y_a2[i]**2)\n",
    "    \n",
    "    \n",
    "    #propagate forward\n",
    "    dx_a2[i] = dx_a1[i]  + a2*h*dpx_b1[i]\n",
    "    dy_a2[i] = dy_a1[i] + a2*h*dpy_b1[i]\n",
    "    dpx_b2[i] = dpx_b1[i] - b2*h*((1 + 2*y_a2[i])*dx_a2[i] + 2*x_a2[i]*dy_a2[i])\n",
    "    dpy_b2[i] = dpy_b1[i] + b2*h*(-2*x_a2[i]*dx_a2[i] + (-1 + 2*y_a1[i])*dy_a2[i])\n",
    "    \n",
    "    \n",
    "    x_a2[i+1] = x_a2[i]  + a2*h*px_b2[i]\n",
    "    y_a2[i+1] = y_a2[i] + a2*h*py_b2[i]\n",
    "    px_b1[i+1] = px_b2[i] - b1*h*(x_a2[i+1] + 2*x_a2[i+1]*y_a2[i+1])\n",
    "    py_b1[i+1] = py_b2[i] - b1*h*(y_a2[i+1] + x_a2[i+1]**2 - y_a2[i+1]**2)\n",
    "    \n",
    "    dx_a2[i+1] = dx_a1[i]  + a2*h*dpx_b2[i]\n",
    "    dy_a2[i+1] = dy_a1[i] + a2*h*dpy_b2[i]\n",
    "    dpx_b1[i+1] = dpx_b2[i] - b1*h*((1 + 2*y_a2[i+1])*dx_a2[i+1] + 2*x_a2[i+1]*dy_a2[i+1])\n",
    "    dpy_b1[i+1] = dpy_b2[i] + b1*h*(-2*x_a2[i+1]*dx_a2[i+1] + (-1 + 2*y_a1[i+1])*dy_a2[i+1])\n",
    "    \n",
    "    \n",
    "    x_a1[i+1] = x_a2[i+1]  + a1*h*px_b1[i+1]\n",
    "    y_a1[i+1] = y_a2[i+1] + a1*h*py_b1[i+1]\n",
    "    dx_a1[i+1] = dx_a2[i+1]  + a1*h*dpx_b2[i+1]\n",
    "    dy_a1[i+1] = dy_a2[i+1] + a1*h*dpy_b2[i+1]\n",
    "    #calculate the total energy\n",
    "    H_new[i] = (1/2)*(px_b1[i+1]**2 + py_b1[i+1]**2) + (1/2)*(x_a1[i+1]**2 + y_a1[i+1]**2) + x_a1[i+1]**2 *y_a1[i+1] - (1/3)*y_a1[i+1]**3\n",
    "    error[i] = abs(H_new[i] - H)\n",
    "    \n",
    "    #handle the computation of the maximal Lyapunov exponent\n",
    "    \n",
    "    #a[i] = np.sqrt(dx_a1[i]**2 + dy_a1[i]**2 + dpx_b1[i]**2 + dpy_b1[i]**2 )\n",
    "    \n",
    "    #compute and store values of LCE\n",
    "    for idx in range(1, i):\n",
    "        if i == 0:\n",
    "            '''\n",
    "            LCE[i] = (1/(h))*np.sum(np.log(np.linalg.norm([dx_a1[idx], dy_a1[idx], dpx_b1[idx], dpy_b1[idx]])))\n",
    "            '''\n",
    "            lyapunov = (1/(h))*np.sum(np.log(np.linalg.norm([dx_a1[idx], dy_a1[idx], dpx_b1[idx], dpy_b1[idx]])))\n",
    "        else:\n",
    "            vec[i] = np.log(np.linalg.norm([dx_a1[idx], dy_a1[idx], dpx_b1[idx], dpy_b1[idx]]))\n",
    "            LCE[i] = (1/(i*h))*np.sum(vec)\n",
    "        lyapunov = (1/(i*h))*np.sum(vec)\n",
    "    #renormalize the deviation vectors \n",
    "    dx_a1[i+1] = dx_a1[i+1]/np.linalg.norm([dx_a1[i+1], dy_a1[i+1], dpx_b1[i+1], dpy_b1[i+1]])\n",
    "    dy_a1[i+1] = dy_a1[i+1]/np.linalg.norm([dx_a1[i+1], dy_a1[i+1], dpx_b1[i+1], dpy_b1[i+1]])\n",
    "    dpx_b1[i+1] = dpx_b1[i+1]/np.linalg.norm([dx_a1[i+1], dy_a1[i+1], dpx_b1[i+1], dpy_b1[i+1]])\n",
    "    dpy_b1[i+1] = dpy_b1[i+1]/np.linalg.norm([dx_a1[i+1], dy_a1[i+1], dpx_b1[i+1], dpy_b1[i+1]])\n",
    "    dx_a2[i+1] = dx_a2[i+1]/np.linalg.norm([dx_a1[i+1], dy_a1[i+1], dpx_b1[i+1], dpy_b1[i+1]])\n",
    "    dy_a2[i+1] = dy_a2[i+1]/np.linalg.norm([dx_a1[i+1], dy_a1[i+1], dpx_b1[i+1], dpy_b1[i+1]])\n",
    "    dpx_b2[i+1] = dpx_b2[i+1]/np.linalg.norm([dx_a1[i+1], dy_a1[i+1], dpx_b1[i+1], dpy_b1[i+1]])\n",
    "    dpy_b2[i+1] = dpy_b2[i+1]/np.linalg.norm([dx_a1[i+1], dy_a1[i+1], dpx_b1[i+1], dpy_b1[i+1]])\n",
    "    i+=1\n",
    "    plt.grid()\n",
    "    plt.loglog(np.linspace(0,N, N), LCE)\n",
    "    plt.legend(['Regular'])\n",
    "    plt.title(r'\\textbf{The time evolution of LCE}')\n",
    "    plt.xlabel(r'\\textit{N}')\n",
    "    plt.ylabel(r'\\textit{LCE(t)}')\n",
    "\n",
    "    "
   ]
  },
  {
   "cell_type": "code",
   "execution_count": 13,
   "metadata": {},
   "outputs": [
    {
     "data": {
      "text/plain": [
       "Text(0, 0.5, '\\\\textit{LCE(t)}')"
      ]
     },
     "execution_count": 13,
     "metadata": {},
     "output_type": "execute_result"
    },
    {
     "data": {
      "image/png": "[encoded data removed]",
      "text/plain": [
       "<Figure size 432x288 with 1 Axes>"
      ]
     },
     "metadata": {
      "needs_background": "light"
     },
     "output_type": "display_data"
    }
   ],
   "source": [
    "plt.grid()\n",
    "plt.loglog(np.linspace(0,N, N), LCE)\n",
    "plt.legend(['Regular'])\n",
    "plt.title(r'\\textbf{The time evolution of LCE}')\n",
    "plt.xlabel(r'\\textit{N}')\n",
    "plt.ylabel(r'\\textit{LCE(t)}')\n"
   ]
  },
  {
   "cell_type": "code",
   "execution_count": 14,
   "metadata": {},
   "outputs": [
    {
     "data": {
      "text/plain": [
       "0.12933554504541464"
      ]
     },
     "execution_count": 14,
     "metadata": {},
     "output_type": "execute_result"
    }
   ],
   "source": [
    "lyapunov"
   ]
  },
  {
   "cell_type": "code",
   "execution_count": 15,
   "metadata": {},
   "outputs": [
    {
     "data": {
      "text/plain": [
       "0.12933554504541464"
      ]
     },
     "execution_count": 15,
     "metadata": {},
     "output_type": "execute_result"
    }
   ],
   "source": [
    "lyapunov"
   ]
  },
  {
   "cell_type": "code",
   "execution_count": null,
   "metadata": {},
   "outputs": [],
   "source": []
  },
  {
   "cell_type": "code",
   "execution_count": 16,
   "metadata": {},
   "outputs": [
    {
     "name": "stdout",
     "output_type": "stream",
     "text": [
      "CPU Time:  16.741674184799194\n"
     ]
    },
    {
     "data": {
      "text/plain": [
       "Text(0, 0.5, 'py')"
      ]
     },
     "execution_count": 16,
     "metadata": {},
     "output_type": "execute_result"
    },
    {
     "data": {
      "image/png": "[encoded data removed]",
      "text/plain": [
       "<Figure size 432x288 with 1 Axes>"
      ]
     },
     "metadata": {
      "needs_background": "light"
     },
     "output_type": "display_data"
    }
   ],
   "source": [
    "end_time = time.time() - start_time\n",
    "print('CPU Time: ', end_time)\n",
    "plt.scatter(y_a1, py_b1, s=0.1)\n",
    "plt.xlabel('y')\n",
    "plt.ylabel('py')"
   ]
  },
  {
   "cell_type": "code",
   "execution_count": 17,
   "metadata": {},
   "outputs": [
    {
     "data": {
      "text/plain": [
       "Text(0, 0.5, 'px')"
      ]
     },
     "execution_count": 17,
     "metadata": {},
     "output_type": "execute_result"
    },
    {
     "data": {
      "image/png": "[encoded data removed]",
      "text/plain": [
       "<Figure size 432x288 with 1 Axes>"
      ]
     },
     "metadata": {
      "needs_background": "light"
     },
     "output_type": "display_data"
    }
   ],
   "source": [
    "plt.scatter(x_a1, px_b1, s=0.1)\n",
    "plt.xlabel('x')\n",
    "plt.ylabel('px')"
   ]
  },
  {
   "cell_type": "code",
   "execution_count": 18,
   "metadata": {},
   "outputs": [
    {
     "data": {
      "text/plain": [
       "Text(0, 0.5, 'y')"
      ]
     },
     "execution_count": 18,
     "metadata": {},
     "output_type": "execute_result"
    },
    {
     "data": {
      "image/png": "[encoded data removed]",
      "text/plain": [
       "<Figure size 432x288 with 1 Axes>"
      ]
     },
     "metadata": {
      "needs_background": "light"
     },
     "output_type": "display_data"
    }
   ],
   "source": [
    "plt.scatter(x_a1, y_a1,marker='o',  s=0.1)\n",
    "plt.xlabel('x')\n",
    "plt.ylabel('y')"
   ]
  },
  {
   "cell_type": "code",
   "execution_count": 19,
   "metadata": {},
   "outputs": [
    {
     "data": {
      "text/plain": [
       "[<matplotlib.lines.Line2D at 0x121d1c410>]"
      ]
     },
     "execution_count": 19,
     "metadata": {},
     "output_type": "execute_result"
    },
    {
     "data": {
      "image/png": "[encoded data removed]",
      "text/plain": [
       "<Figure size 432x288 with 1 Axes>"
      ]
     },
     "metadata": {
      "needs_background": "light"
     },
     "output_type": "display_data"
    }
   ],
   "source": [
    "plt.loglog(np.linspace(0,N, N), error)"
   ]
  },
  {
   "cell_type": "code",
   "execution_count": null,
   "metadata": {},
   "outputs": [],
   "source": []
  }
 ],
 "metadata": {
  "kernelspec": {
   "display_name": "Python 3",
   "language": "python",
   "name": "python3"
  },
  "language_info": {
   "codemirror_mode": {
    "name": "ipython",
    "version": 3
   },
   "file_extension": ".py",
   "mimetype": "text/x-python",
   "name": "python",
   "nbconvert_exporter": "python",
   "pygments_lexer": "ipython3",
   "version": "3.7.4"
  }
 },
 "nbformat": 4,
 "nbformat_minor": 2
}
