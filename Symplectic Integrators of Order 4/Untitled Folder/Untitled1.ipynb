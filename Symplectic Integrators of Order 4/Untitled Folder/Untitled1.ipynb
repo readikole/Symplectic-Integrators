{
 "cells": [
  {
   "cell_type": "code",
   "execution_count": 1,
   "metadata": {},
   "outputs": [],
   "source": [
    "import numpy as np \n",
    "import matplotlib\n",
    "matplotlib.rcParams['text.usetex'] = True\n",
    "import matplotlib.pyplot as plt\n",
    "import time"
   ]
  },
  {
   "cell_type": "markdown",
   "metadata": {},
   "source": [
    "The $SABA_{2}C = C(SABA_2)C$ intergrator of the Henon-Heiles Hamiltonian - we employ this to compute the maximal Lyapunov characteristic exponents (mLCE).\n",
    "This symplectic integrator is of order 4"
   ]
  },
  {
   "cell_type": "code",
   "execution_count": 2,
   "metadata": {},
   "outputs": [],
   "source": [
    "start_time = time.time()\n",
    "#integration of the Henon-Heiles system\n",
    "N = 1000\n",
    "a = 0\n",
    "b = 25\n",
    "h = 0.05#(b-a)/N\n",
    "H = 1/8                             #the total energy of the system"
   ]
  },
  {
   "cell_type": "code",
   "execution_count": 3,
   "metadata": {},
   "outputs": [],
   "source": [
    "#intialize vectors\n",
    "x_c1 = np.zeros(N, dtype = 'float')\n",
    "y_c1 = np.zeros(N, dtype = 'float')\n",
    "px_d1 = np.zeros(N, dtype = 'float')\n",
    "py_d1 = np.zeros(N, dtype = 'float')\n",
    "x_c2 = np.zeros(N, dtype = 'float')\n",
    "y_c2 = np.zeros(N, dtype = 'float')\n",
    "px_c = np.zeros(N, dtype = 'float')\n",
    "py_c = np.zeros(N, dtype = 'float')\n",
    "H_new = np.zeros(N, dtype = 'float')\n",
    "error = np.zeros(N, dtype = 'float')"
   ]
  },
  {
   "cell_type": "code",
   "execution_count": 4,
   "metadata": {},
   "outputs": [],
   "source": [
    "#intialize deviation vectors\n",
    "dx_c1 = np.zeros(N, dtype = 'float')\n",
    "dy_c1 = np.zeros(N, dtype = 'float')\n",
    "dpx_d1 = np.zeros(N, dtype = 'float')\n",
    "dpy_d1 = np.zeros(N, dtype = 'float')\n",
    "dx_c2 = np.zeros(N, dtype = 'float')\n",
    "dy_c2 = np.zeros(N, dtype = 'float')\n",
    "dpx_c = np.zeros(N, dtype = 'float')\n",
    "dpy_c = np.zeros(N, dtype = 'float')"
   ]
  },
  {
   "cell_type": "code",
   "execution_count": 5,
   "metadata": {},
   "outputs": [],
   "source": [
    "#set intial conditions \n",
    "x0 = 0\n",
    "y0 = -0.25\n",
    "py0 = 0\n",
    "\n",
    "#set initial conditions of the deviation vectors\n",
    "dx0=1\n",
    "dy0 = 0\n",
    "dpx0 = 0\n",
    "dpy0 = 0\n",
    "#define dunction to find px0\n",
    "def initial_px(x0, y0, py0):\n",
    "    return np.sqrt(2*H - py0**2  - y0**2 - 2*x0**2*y0 + (2/3)*y0**2)\n",
    "px0 = initial_px(x0, y0, py0)"
   ]
  },
  {
   "cell_type": "code",
   "execution_count": 6,
   "metadata": {},
   "outputs": [],
   "source": [
    "#function for normalizing deviation vectors\n",
    "def alpha(dx, dy, dpx, dpy):\n",
    "    return np.linalg.norm([dx, dy, dpx, dpy])"
   ]
  },
  {
   "cell_type": "code",
   "execution_count": 7,
   "metadata": {},
   "outputs": [],
   "source": [
    "#normalize the intial deviation vector\n",
    "dx0 = dx0/alpha(dx0, dy0, dpx0, dpy0)"
   ]
  },
  {
   "cell_type": "code",
   "execution_count": 8,
   "metadata": {},
   "outputs": [],
   "source": [
    "#set the integration constants\n",
    "c1 = 1/2 - np.sqrt(3)/6\n",
    "c2 = np.sqrt(3)/3\n",
    "d1 = 1/2\n",
    "c = (2 - np.sqrt(3))/24"
   ]
  },
  {
   "cell_type": "code",
   "execution_count": 9,
   "metadata": {},
   "outputs": [],
   "source": [
    "#empty vector to store the evolution of the X_1(t)\n",
    "LCE = np.zeros(N, dtype = 'float')\n",
    "vec = np.zeros(N, dtype = 'float')"
   ]
  },
  {
   "cell_type": "code",
   "execution_count": 10,
   "metadata": {},
   "outputs": [],
   "source": [
    "i = 0\n",
    "while i<N-1:\n",
    "    #filling the first entries\n",
    "    px_c[0] = px0\n",
    "    py_c[0] = py0\n",
    "    x_c1[0] = x0\n",
    "    y_c1[0] = y0\n",
    "    dpx_c[0] = dpx0\n",
    "    dpy_c[0] = dpy0\n",
    "    dx_c1[0] = dx0\n",
    "    dy_c1[0] = dy0\n",
    "    \n",
    "    px_c[i+1] = px_c[i] + c*(h**3)*x_c1[i]*(1 + 2*x_c1[i]**2 + 6*y_c1[i]  + 2*y_c1[i]**2)\n",
    "    py_c[i+1] = py_c[i] + c*(h**3)*(y_c1[i] - 3*y_c1[i]**2 + 2*y_c1[i]**3 + 3*x_c1[i]**2 + 2*(x_c1[i]**2)*y_c1[i])\n",
    "    dpx_c[i+1] = dpx_c[i] + c*(h**3)*((1 + 6*x_c1[i]**2 + 2*y_c1[i]**2 + 6*y_c1[i])*dx_c1[i] + 2*x_c1[i]*(3 + 2*y_c1[i])*dy_c1[i])\n",
    "    dpy_c[i+1] = dpy_c[i] + c*(h**3)*(2*x_c1[i]*(3 + 2*y_c1[i])*dx_c1[i] + (1 + 2*x_c1[i]**2 + 6*y_c1[i]**2 - 6*y_c1[i])*dy_c1[i])\n",
    "    \n",
    "    \n",
    "    x_c1[i+1] = x_c1[i] + c1*h*px_c[i+1]\n",
    "    y_c1[i+1] = y_c1[i] + c1*h*py_c[i+1]\n",
    "    dx_c1[i+1] = dx_c1[i] + c1*h*dpx_c[i+1]\n",
    "    dy_c1[i+1] = dy_c1[i] + c1*h*dpy_c[i+1]\n",
    "    \n",
    "    \n",
    "    px_d1[i] = px_c[i+1] - d1*h*x_c1[i+1]*(1 + 2*y_c1[i+1])\n",
    "    py_d1[i] = py_c[i+1] + d1*h*(y_c1[i+1]**2 - x_c1[i+1]**2  - y_c1[i+1])\n",
    "    dpx_d1[i] = dpx_c[i+1] - d1*h*((1 + 2*y_c1[i+1])*dx_c1[i+1] + 2*x_c1[i+1]*dy_c1[i+1])\n",
    "    dpy_d1[i] = dpy_c[i+1] + d1*h*(-2*x_c1[i+1]*dx_c1[i+1] + (-1 + 2*y_c1[i+1])*dy_c1[i+1])\n",
    "    \n",
    "    \n",
    "    x_c2[i] = x_c1[i+1] + c2*h*px_d1[i]\n",
    "    y_c2[i] = y_c1[i+1] + c2*h*py_d1[i]\n",
    "    dx_c2[i] = dx_c1[i+1] + c2*h*dpx_d1[i]\n",
    "    dy_c2[i] = dy_c1[i+1] + c2*h*dpy_d1[i]\n",
    "    \n",
    "    \n",
    "    px_d1[i+1] = px_d1[i] - d1*h*x_c2[i]*(1 + 2*y_c2[i])\n",
    "    py_d1[i+1] = py_d1[i] + d1*h*(y_c2[i]**2 - x_c2[i]**2  - y_c2[i])\n",
    "    dpx_d1[i+1] = dpx_d1[i] - d1*h*((1 + 2*y_c2[i])*dx_c2[i] + 2*x_c2[i]*dy_c2[i])\n",
    "    dpy_d1[i+1] = dpy_d1[i] + d1*h*(-2*x_c2[i]*dx_c2[i] + (-1 + 2*y_c2[i])*dy_c2[i])\n",
    "    \n",
    "    \n",
    "    x_c1[i+1] = x_c2[i] + c1*h*px_d1[i+1]\n",
    "    y_c1[i+1] = y_c2[i] + c1*h*py_d1[i+1]\n",
    "    dx_c1[i+1] = dx_c2[i] + c1*h*dpx_d1[i+1]\n",
    "    dy_c1[i+1] = dy_c2[i] + c1*h*dpy_d1[i+1]\n",
    "    \n",
    "    px_c[i+1] = px_d1[i+1] + c*(h**3)*x_c1[i+1]*(1 + 2*x_c1[i+1]**2 + 6*y_c1[i+1]  + 2*y_c1[i+1]**2)\n",
    "    py_c[i+1] = py_d1[i+1] + c*(h**3)*(y_c1[i+1] - 3*y_c1[i+1]**2 + 2*y_c1[i+1]**3 + 3*x_c1[i+1]**2 + 2*(x_c1[i+1]**2)*y_c1[i+1])\n",
    "    dpx_c[i+1] = dpx_d1[i+1] + c*(h**3)*((1 + 6*x_c1[i+1]**2 + 2*y_c1[i+1]**2 + 6*y_c1[i+1])*dx_c1[i+1] + 2*x_c1[i+1]*(3 + 2*y_c1[i+1])*dy_c1[i+1])\n",
    "    dpy_c[i+1] = dpy_d1[i+1] + c*(h**3)*(2*x_c1[i+1]*(3 + 2*y_c1[i+1])*dx_c1[i+1] + (1 + 2*x_c1[i+1]**2 + 6*y_c1[i+1]**2 - 6*y_c1[i+1])*dy_c1[i+1])\n",
    "    \n",
    "    #computation of the largest lyapunov exponent\n",
    "    for idx in range(i):\n",
    "        if i == 0:\n",
    "            '''\n",
    "            LCE[i+1] = (1/(h))*np.sum(np.log(alpha(dx_c1[idx], dy_c1[idx], dpx_c[idx], dpy_c[idx])))\n",
    "            lyapunov = (1/(h))*np.sum(np.log(alpha(dx_c1[idx], dy_c1[idx], dpx_c[idx], dpy_c[idx])))\n",
    "            '''\n",
    "            vec[idx] = np.log(alpha(dx_c1[idx], dy_c1[idx], dpx_c[idx], dpy_c[idx]))\n",
    "            lyapunov = (1/h)*np.sum(vec)\n",
    "        else:\n",
    "            '''\n",
    "            LCE[i] = (1/(i*h))*np.sum(np.log(alpha(dx_c1[idx], dy_c1[idx], dpx_c[idx], dpy_c[idx])))\n",
    "            '''\n",
    "            vec[idx] = np.log(alpha(dx_c1[idx], dy_c1[idx], dpx_c[idx], dpy_c[idx]))\n",
    "        LCE[i] = (1/(i*h))*np.sum(vec)\n",
    "        lyapunov = (1/(i*h))*np.sum(vec)\n",
    "    #renormalize the deviation vectors\n",
    "    dx_c1[i+1] = dx_c1[i+1]/alpha(dx_c2[i], dy_c2[i], dpx_d1[i+1], dpy_d1[i+1])\n",
    "    dy_c1[i+1] = dy_c1[i+1]/alpha(dx_c2[i], dy_c2[i], dpx_d1[i+1], dpy_d1[i+1])\n",
    "    dpx_c[i+1] = dpx_c[i+1]/alpha(dx_c1[i+1], dy_c1[i+1], dpx_c[i+1], dpy_c[i+1])\n",
    "    dpy_c[i+1] = dpy_c[i+1]/alpha(dx_c1[i+1], dy_c1[i+1], dpx_c[i+1], dpy_c[i+1])\n",
    "    dx_c2[i] = dx_c2[i]/alpha(dx_c1[i+1], dy_c1[i+1], dpx_d1[i], dpy_d1[i])\n",
    "    dy_c2[i] = dy_c2[i]/alpha(dx_c1[i+1], dy_c1[i+1], dpx_d1[i], dpy_d1[i])\n",
    "    dpx_d1[i+1] = dpx_d1[i+1]/alpha(dx_c1[i+1], dy_c1[i+1], dpx_c[i+1], dpy_c[i+1])\n",
    "    dpy_d1[i+1] = dpy_d1[i+1]/alpha(dx_c1[i+1], dy_c1[i+1], dpx_c[i+1], dpy_c[i+1])\n",
    "    \n",
    "    \n",
    "    H_new[i] = (1/2)*(px_d1[i+1]**2 + py_d1[i+1]**2) + (1/2)*(x_c1[i+1]**2 + y_c1[i+1]**2) + x_c1[i+1]**2 *y_c1[i+1] - (1/3)*y_c1[i+1]**3\n",
    "    error[i] = abs(H_new[i] - H)\n",
    "    \n",
    "    i+=1\n",
    "    "
   ]
  },
  {
   "cell_type": "code",
   "execution_count": 11,
   "metadata": {},
   "outputs": [
    {
     "data": {
      "text/plain": [
       "0.04755707583605703"
      ]
     },
     "execution_count": 11,
     "metadata": {},
     "output_type": "execute_result"
    }
   ],
   "source": [
    "lyapunov"
   ]
  },
  {
   "cell_type": "code",
   "execution_count": 12,
   "metadata": {},
   "outputs": [
    {
     "name": "stderr",
     "output_type": "stream",
     "text": [
      "/opt/anaconda3/lib/python3.7/site-packages/ipykernel_launcher.py:2: RuntimeWarning: divide by zero encountered in log10\n",
      "  \n",
      "/opt/anaconda3/lib/python3.7/site-packages/ipykernel_launcher.py:2: RuntimeWarning: invalid value encountered in log10\n",
      "  \n"
     ]
    },
    {
     "data": {
      "text/plain": [
       "Text(0, 0.5, '$\\\\log_{10} X_{1}(t)$')"
      ]
     },
     "execution_count": 12,
     "metadata": {},
     "output_type": "execute_result"
    },
    {
     "data": {
      "image/png": "[encoded data removed]",
      "text/plain": [
       "<Figure size 432x288 with 1 Axes>"
      ]
     },
     "metadata": {
      "needs_background": "light"
     },
     "output_type": "display_data"
    }
   ],
   "source": [
    "plt.grid()\n",
    "plt.scatter(np.log10(np.linspace(0, N, N)), np.log10(LCE),marker='o',s=1)\n",
    "plt.title(r'\\textbf{The time evolution of $X_{1}(t)$, for a regular orbit}')\n",
    "plt.xlabel(r'$\\log_{10}N$')\n",
    "plt.ylabel(r'$\\log_{10} X_{1}(t)$')"
   ]
  },
  {
   "cell_type": "code",
   "execution_count": 13,
   "metadata": {},
   "outputs": [
    {
     "name": "stderr",
     "output_type": "stream",
     "text": [
      "/opt/anaconda3/lib/python3.7/site-packages/ipykernel_launcher.py:3: RuntimeWarning: divide by zero encountered in log10\n",
      "  This is separate from the ipykernel package so we can avoid doing imports until\n",
      "/opt/anaconda3/lib/python3.7/site-packages/ipykernel_launcher.py:3: RuntimeWarning: invalid value encountered in log10\n",
      "  This is separate from the ipykernel package so we can avoid doing imports until\n"
     ]
    },
    {
     "ename": "IndexError",
     "evalue": "index 3600 is out of bounds for axis 0 with size 1000",
     "output_type": "error",
     "traceback": [
      "\u001b[0;31m---------------------------------------------------------------------------\u001b[0m",
      "\u001b[0;31mIndexError\u001b[0m                                Traceback (most recent call last)",
      "\u001b[0;32m<ipython-input-13-618007bd2cad>\u001b[0m in \u001b[0;36m<module>\u001b[0;34m\u001b[0m\n\u001b[1;32m      2\u001b[0m \u001b[0mx_vec\u001b[0m \u001b[0;34m=\u001b[0m \u001b[0;34m[\u001b[0m\u001b[0;36m3900\u001b[0m\u001b[0;34m,\u001b[0m \u001b[0;36m5000\u001b[0m\u001b[0;34m,\u001b[0m \u001b[0;36m6000\u001b[0m\u001b[0;34m,\u001b[0m\u001b[0;36m7000\u001b[0m\u001b[0;34m]\u001b[0m\u001b[0;34m\u001b[0m\u001b[0;34m\u001b[0m\u001b[0m\n\u001b[1;32m      3\u001b[0m \u001b[0mx_vec\u001b[0m \u001b[0;34m=\u001b[0m \u001b[0mnp\u001b[0m\u001b[0;34m.\u001b[0m\u001b[0mlog10\u001b[0m\u001b[0;34m(\u001b[0m\u001b[0mnp\u001b[0m\u001b[0;34m.\u001b[0m\u001b[0marray\u001b[0m\u001b[0;34m(\u001b[0m\u001b[0mvec\u001b[0m\u001b[0;34m)\u001b[0m\u001b[0;34m)\u001b[0m      \u001b[0;31m#x-values\u001b[0m\u001b[0;34m\u001b[0m\u001b[0;34m\u001b[0m\u001b[0m\n\u001b[0;32m----> 4\u001b[0;31m \u001b[0my_vec\u001b[0m \u001b[0;34m=\u001b[0m \u001b[0;34m[\u001b[0m\u001b[0mLCE\u001b[0m\u001b[0;34m[\u001b[0m\u001b[0;36m3600\u001b[0m\u001b[0;34m]\u001b[0m\u001b[0;34m,\u001b[0m \u001b[0mLCE\u001b[0m\u001b[0;34m[\u001b[0m\u001b[0;36m3900\u001b[0m\u001b[0;34m]\u001b[0m\u001b[0;34m,\u001b[0m \u001b[0mLCE\u001b[0m\u001b[0;34m[\u001b[0m\u001b[0;36m4000\u001b[0m\u001b[0;34m]\u001b[0m\u001b[0;34m,\u001b[0m \u001b[0mLCE\u001b[0m\u001b[0;34m[\u001b[0m\u001b[0;36m4200\u001b[0m\u001b[0;34m]\u001b[0m\u001b[0;34m]\u001b[0m\u001b[0;34m\u001b[0m\u001b[0;34m\u001b[0m\u001b[0m\n\u001b[0m\u001b[1;32m      5\u001b[0m \u001b[0my_vec\u001b[0m \u001b[0;34m=\u001b[0m \u001b[0mnp\u001b[0m\u001b[0;34m.\u001b[0m\u001b[0mlog10\u001b[0m\u001b[0;34m(\u001b[0m\u001b[0mnp\u001b[0m\u001b[0;34m.\u001b[0m\u001b[0marray\u001b[0m\u001b[0;34m(\u001b[0m\u001b[0my_vec\u001b[0m\u001b[0;34m)\u001b[0m\u001b[0;34m)\u001b[0m   \u001b[0;31m#y-values\u001b[0m\u001b[0;34m\u001b[0m\u001b[0;34m\u001b[0m\u001b[0m\n",
      "\u001b[0;31mIndexError\u001b[0m: index 3600 is out of bounds for axis 0 with size 1000"
     ]
    }
   ],
   "source": [
    "#perform a linear fit on the last few values\n",
    "x_vec = [3900, 5000, 6000,7000]\n",
    "x_vec = np.log10(np.array(vec))      #x-values \n",
    "y_vec = [LCE[3600], LCE[3900], LCE[4000], LCE[4200]]\n",
    "y_vec = np.log10(np.array(y_vec))   #y-values"
   ]
  },
  {
   "cell_type": "code",
   "execution_count": null,
   "metadata": {},
   "outputs": [],
   "source": [
    "x_vec"
   ]
  },
  {
   "cell_type": "code",
   "execution_count": null,
   "metadata": {},
   "outputs": [],
   "source": [
    "y_vec"
   ]
  },
  {
   "cell_type": "code",
   "execution_count": null,
   "metadata": {},
   "outputs": [],
   "source": [
    "from scipy.optimize import curve_fit"
   ]
  },
  {
   "cell_type": "code",
   "execution_count": null,
   "metadata": {},
   "outputs": [],
   "source": [
    "##=============initialize parameters for the linearfit y = mx + c===========##\n",
    "m0 = -0.5\n",
    "c0 = 80"
   ]
  },
  {
   "cell_type": "code",
   "execution_count": null,
   "metadata": {},
   "outputs": [],
   "source": [
    "p0 = [m0, c0]\n",
    "name = ['m', 'c']"
   ]
  },
  {
   "cell_type": "code",
   "execution_count": null,
   "metadata": {},
   "outputs": [],
   "source": [
    "def f(x, m, c):\n",
    "    return m*x + c"
   ]
  },
  {
   "cell_type": "code",
   "execution_count": null,
   "metadata": {},
   "outputs": [],
   "source": [
    "xmodel = np.log10(np.linspace(3000, 30000, 20000))\n",
    "xmodel"
   ]
  },
  {
   "cell_type": "code",
   "execution_count": null,
   "metadata": {},
   "outputs": [],
   "source": [
    "ystart = f(xmodel, *p0)"
   ]
  },
  {
   "cell_type": "code",
   "execution_count": null,
   "metadata": {},
   "outputs": [],
   "source": [
    "plt.plot(xmodel , ystart)"
   ]
  },
  {
   "cell_type": "code",
   "execution_count": null,
   "metadata": {},
   "outputs": [],
   "source": [
    "#udata = [0.01, 0.01, 0.01, 0.01]"
   ]
  },
  {
   "cell_type": "code",
   "execution_count": null,
   "metadata": {},
   "outputs": [],
   "source": [
    "popt , pcov = curve_fit ( f , x_vec , y_vec , p0  , absolute_sigma=True )"
   ]
  },
  {
   "cell_type": "code",
   "execution_count": null,
   "metadata": {},
   "outputs": [],
   "source": [
    "dymin = (y_vec-f( x_vec,*popt ))/udata\n",
    "min_chisq = sum( dymin*dymin )\n",
    "dof = len (x_vec) - len ( popt )"
   ]
  },
  {
   "cell_type": "code",
   "execution_count": null,
   "metadata": {},
   "outputs": [],
   "source": [
    "print( \" Chi square : \" , min_chisq )\n",
    "print( \" Number of degrees of freedom : \" , dof )\n",
    "print( \" Chisquare per degree of freedom : \" , min_chisq/dof )\n",
    "print( )"
   ]
  },
  {
   "cell_type": "code",
   "execution_count": null,
   "metadata": {},
   "outputs": [],
   "source": [
    "print( \" Fitted parameters with 68% C . I . : \" )\n",
    "for i , pmin in enumerate( popt ) : # enumerate i s ve ry u s e f u l !\n",
    "    print( (i ,name[ i ] , pmin , np.sqrt ( pcov [ i , i ] ) * np.sqrt ( min_chisq/dof )))\n",
    "print( )\n",
    "perr = np . sqrt ( np . diag ( pcov ) ) # a c c o r di n g t o s ci p y documentation\n",
    "print( perr )"
   ]
  },
  {
   "cell_type": "code",
   "execution_count": null,
   "metadata": {},
   "outputs": [],
   "source": [
    "yfit = f (xmodel , * popt ) # v e c t o r i s e d"
   ]
  },
  {
   "cell_type": "code",
   "execution_count": null,
   "metadata": {},
   "outputs": [],
   "source": [
    "yfit.shape"
   ]
  },
  {
   "cell_type": "code",
   "execution_count": null,
   "metadata": {},
   "outputs": [],
   "source": [
    "xmodel.shape"
   ]
  },
  {
   "cell_type": "code",
   "execution_count": null,
   "metadata": {},
   "outputs": [],
   "source": [
    "LCE.shape"
   ]
  },
  {
   "cell_type": "code",
   "execution_count": null,
   "metadata": {},
   "outputs": [],
   "source": [
    "plt.grid()\n",
    "plt.scatter(np.log10(np.linspace(0, N, N)), np.log10(LCE),marker='o',s=1)\n",
    "#plt.legend([r'\\textbf{Evolution of $X_{1}(t)$ }' ])\n",
    "plt.plot(xmodel, yfit, '-r')\n",
    "plt.legend([r'\\textbf{Linear fit of the peaks in $X_{1}(t)$ }'], loc='best')\n",
    "plt.title(r'\\textbf{The time evolution of $X_{1}(t)$, for a regular orbit}')\n",
    "plt.xlabel(r'$\\log_{10}N$')\n",
    "plt.ylabel(r'$\\log_{10} X_{1}(t)$')\n",
    "#plt.loglog(np.linspace(0, N, N), LCE)"
   ]
  },
  {
   "cell_type": "code",
   "execution_count": null,
   "metadata": {},
   "outputs": [],
   "source": [
    "plt.loglog(np.linspace(0, N, N), error)"
   ]
  },
  {
   "cell_type": "code",
   "execution_count": null,
   "metadata": {},
   "outputs": [],
   "source": [
    "plt.scatter(x_c1, y_c1, s=0.1)"
   ]
  },
  {
   "cell_type": "code",
   "execution_count": null,
   "metadata": {},
   "outputs": [],
   "source": [
    "plt.scatter(x_c1, px_c, s=0.1)"
   ]
  },
  {
   "cell_type": "code",
   "execution_count": null,
   "metadata": {},
   "outputs": [],
   "source": [
    "plt.scatter(y_c1, py_c, s=0.1)"
   ]
  }
 ],
 "metadata": {
  "kernelspec": {
   "display_name": "Python 3",
   "language": "python",
   "name": "python3"
  },
  "language_info": {
   "codemirror_mode": {
    "name": "ipython",
    "version": 3
   },
   "file_extension": ".py",
   "mimetype": "text/x-python",
   "name": "python",
   "nbconvert_exporter": "python",
   "pygments_lexer": "ipython3",
   "version": "3.7.6"
  }
 },
 "nbformat": 4,
 "nbformat_minor": 2
}
